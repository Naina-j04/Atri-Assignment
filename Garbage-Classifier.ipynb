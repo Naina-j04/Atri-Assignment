{
  "nbformat": 4,
  "nbformat_minor": 0,
  "metadata": {
    "colab": {
      "provenance": [],
      "mount_file_id": "1g7SS6DF4ZuRKtoHsdbeQ3XfIQjcBd_Cm",
      "authorship_tag": "ABX9TyNFUxD9CR9zoBPaJU3a2vRp",
      "include_colab_link": true
    },
    "kernelspec": {
      "name": "python3",
      "display_name": "Python 3"
    },
    "language_info": {
      "name": "python"
    }
  },
  "cells": [
    {
      "cell_type": "markdown",
      "metadata": {
        "id": "view-in-github",
        "colab_type": "text"
      },
      "source": [
        "<a href=\"https://colab.research.google.com/github/Naina-j04/Garbage_classifier/blob/main/Garbage-Classifier.ipynb\" target=\"_parent\"><img src=\"https://colab.research.google.com/assets/colab-badge.svg\" alt=\"Open In Colab\"/></a>"
      ]
    },
    {
      "cell_type": "code",
      "execution_count": 2,
      "metadata": {
        "id": "TDOOcPLTCM6x"
      },
      "outputs": [],
      "source": [
        "import os\n",
        "import torch\n",
        "import torchvision\n",
        "from torch.utils.data import random_split\n",
        "import torchvision.models as models\n",
        "import torch.nn as nn\n",
        "import torch.nn.functional as F\n",
        "from torchvision import transforms\n",
        "import torch.optim as optim\n",
        "import torch.optim as optim\n",
        "from PIL import Image\n",
        "from collections import Counter\n",
        "from sklearn.metrics import confusion_matrix\n",
        "import matplotlib.pyplot as plt\n",
        "import seaborn as sns\n"
      ]
    },
    {
      "cell_type": "code",
      "source": [
        "from google.colab import drive\n",
        "drive.mount('/content/drive')"
      ],
      "metadata": {
        "colab": {
          "base_uri": "https://localhost:8080/"
        },
        "id": "CRs0MnTSD2rc",
        "outputId": "daf71c53-9ee9-42be-8f87-32c6c4676a7f"
      },
      "execution_count": 4,
      "outputs": [
        {
          "output_type": "stream",
          "name": "stdout",
          "text": [
            "Drive already mounted at /content/drive; to attempt to forcibly remount, call drive.mount(\"/content/drive\", force_remount=True).\n"
          ]
        }
      ]
    },
    {
      "cell_type": "code",
      "source": [
        "#pointing to dataset\n",
        "data_dir  = '/content/drive/MyDrive/Garbage_classification/Data'\n",
        "\n",
        "classes = os.listdir(data_dir)\n",
        "print(classes)"
      ],
      "metadata": {
        "colab": {
          "base_uri": "https://localhost:8080/"
        },
        "id": "0ORVPfMbCfwS",
        "outputId": "d399aac4-ddd4-4433-f7e6-c349c7edb518"
      },
      "execution_count": 5,
      "outputs": [
        {
          "output_type": "stream",
          "name": "stdout",
          "text": [
            "['plastic', 'trash', 'paper', 'glass', 'metal', 'cardboard', 'garbage.pth', 'bettermodel.pth', 'bettermodel2.pth']\n"
          ]
        }
      ]
    },
    {
      "cell_type": "code",
      "source": [
        "#resizing and normalizing the dataset\n",
        "from torchvision.datasets import ImageFolder\n",
        "import torchvision.transforms as transforms\n",
        "\n",
        "transformations = transforms.Compose([transforms.Resize((256, 256)),transforms.RandomHorizontalFlip(),\n",
        "                                      transforms.RandomRotation(10),transforms.ToTensor(),\n",
        "                                      transforms.Normalize((0.5, 0.5, 0.5), (0.5, 0.5, 0.5))])\n",
        "\n",
        "dataset = ImageFolder(data_dir, transform = transformations)"
      ],
      "metadata": {
        "id": "Rn2Q0WW2EXTd"
      },
      "execution_count": 6,
      "outputs": []
    },
    {
      "cell_type": "code",
      "source": [
        "len(dataset)\n"
      ],
      "metadata": {
        "colab": {
          "base_uri": "https://localhost:8080/"
        },
        "id": "WASsrWTUmxpx",
        "outputId": "a2a4c18c-c9f4-413e-c36e-e7426dea6e38"
      },
      "execution_count": 7,
      "outputs": [
        {
          "output_type": "execute_result",
          "data": {
            "text/plain": [
              "2527"
            ]
          },
          "metadata": {},
          "execution_count": 7
        }
      ]
    },
    {
      "cell_type": "code",
      "source": [
        "#splitting the dataset\n",
        "train_data,val_data,test_data=random_split(dataset,[1616,405,506])\n",
        "len(train_data),len(val_data),len(test_data)"
      ],
      "metadata": {
        "colab": {
          "base_uri": "https://localhost:8080/"
        },
        "id": "p4FX9gWwnXRr",
        "outputId": "39be874c-060d-4022-e0ef-71a6ef4e67a3"
      },
      "execution_count": 8,
      "outputs": [
        {
          "output_type": "execute_result",
          "data": {
            "text/plain": [
              "(1616, 405, 506)"
            ]
          },
          "metadata": {},
          "execution_count": 8
        }
      ]
    },
    {
      "cell_type": "code",
      "source": [
        "#checking how many images from each class split b/w TVT\n",
        "train_idx = train_data.indices\n",
        "val_idx   = val_data.indices\n",
        "test_idx  = test_data.indices\n",
        "\n",
        "print(\"Train class counts:\", Counter([dataset.targets[i] for i in train_idx]))\n",
        "print(\"Val class counts:\", Counter([dataset.targets[i] for i in val_idx]))\n",
        "print(\"Test class counts:\", Counter([dataset.targets[i] for i in test_idx]))\n"
      ],
      "metadata": {
        "colab": {
          "base_uri": "https://localhost:8080/"
        },
        "id": "pJcAQd_VA0ZC",
        "outputId": "6e4e37d0-916c-4048-e97e-f2fcea94f606"
      },
      "execution_count": 9,
      "outputs": [
        {
          "output_type": "stream",
          "name": "stdout",
          "text": [
            "Train class counts: Counter({3: 380, 1: 306, 4: 304, 2: 278, 0: 259, 5: 89})\n",
            "Val class counts: Counter({3: 97, 1: 83, 4: 77, 0: 71, 2: 58, 5: 19})\n",
            "Test class counts: Counter({3: 117, 1: 112, 4: 101, 2: 74, 0: 73, 5: 29})\n"
          ]
        }
      ]
    },
    {
      "cell_type": "code",
      "source": [
        "#class definition\n",
        "class GarbageCNN(nn.Module):\n",
        "  def __init__(self,classes=6):\n",
        "    super (GarbageCNN,self).__init__()\n",
        "#convulation layers\n",
        "    self.c1=nn.Conv2d(in_channels=3,out_channels=16,kernel_size=3,padding=1)\n",
        "    self.c2=nn.Conv2d(in_channels=16,out_channels=32,kernel_size=3,padding=1)\n",
        "    self.c3=nn.Conv2d(in_channels=32,out_channels=64,kernel_size=3,padding=1)\n",
        "    self.c4=nn.Conv2d(in_channels=64,out_channels=128,kernel_size=3,padding=1)\n",
        "    self.c5=nn.Conv2d(in_channels=128,out_channels=256,kernel_size=3,padding=1)\n",
        "#pool layer\n",
        "    self.pool=nn.MaxPool2d(kernel_size=2,stride=2)\n",
        "#fully connected layer\n",
        "    self.fc = nn.Linear(256 * 8 * 8, classes)\n",
        "#forward passing - (conv+relu+pool), flattening features, dropout\n",
        "  def forward(self,x):\n",
        "    x=self.pool(F.relu(self.c1(x)))\n",
        "    x=self.pool(F.relu(self.c2(x)))\n",
        "    x=self.pool(F.relu(self.c3(x)))\n",
        "    x=self.pool(F.relu(self.c4(x)))\n",
        "    x=self.pool(F.relu(self.c5(x)))\n",
        "    x = x.view(x.size(0), -1)\n",
        "    self.dropout = nn.Dropout(0.5)\n",
        "    x = self.dropout(x)\n",
        "    x = self.fc(x)\n",
        "    return x\n",
        "garbage=GarbageCNN()\n"
      ],
      "metadata": {
        "id": "9jCzDDS2oMuI"
      },
      "execution_count": 36,
      "outputs": []
    },
    {
      "cell_type": "code",
      "source": [
        "#dataloader\n",
        "train_loader=DataLoader(train_data,batch_size=32,shuffle=True)\n",
        "val_loader=DataLoader(val_data,batch_size=32,shuffle=False)\n",
        "test_loader=DataLoader(test_data,batch_size=32,shuffle=False)"
      ],
      "metadata": {
        "id": "hHgEtbGPuHpL"
      },
      "execution_count": 37,
      "outputs": []
    },
    {
      "cell_type": "code",
      "source": [
        "#defining the training components\n",
        "classes=6\n",
        "model=GarbageCNN(classes)\n",
        "criterion=nn.CrossEntropyLoss()\n",
        "optimizer=optim.Adam(model.parameters(),lr=0.001)\n",
        "device = torch.device('cuda' if torch.cuda.is_available() else 'cpu')\n",
        "model.to(device)\n",
        "device"
      ],
      "metadata": {
        "colab": {
          "base_uri": "https://localhost:8080/"
        },
        "id": "3g55FGaOvAtL",
        "outputId": "a017ba4e-e66a-4b70-a5d4-2fccb32e1c71"
      },
      "execution_count": 38,
      "outputs": [
        {
          "output_type": "execute_result",
          "data": {
            "text/plain": [
              "device(type='cuda')"
            ]
          },
          "metadata": {},
          "execution_count": 38
        }
      ]
    },
    {
      "cell_type": "code",
      "source": [
        "num_epochs = 25\n",
        "print(\"Starting Training...\")\n",
        "for epoch in range(num_epochs):\n",
        "    model.train()\n",
        "    running_loss = 0.0\n",
        "    for images, labels in train_loader:\n",
        "        images, labels = images.to(device), labels.to(device)\n",
        "        optimizer.zero_grad()\n",
        "        outputs = model(images)\n",
        "        loss = criterion(outputs, labels)\n",
        "        loss.backward()\n",
        "        optimizer.step()\n",
        "        running_loss += loss.item()\n",
        "    model.eval()\n",
        "    val_loss = 0.0\n",
        "    correct = 0\n",
        "    total = 0\n",
        "    with torch.no_grad():\n",
        "        for images, labels in val_loader:\n",
        "            images, labels = images.to(device), labels.to(device)\n",
        "            outputs = model(images)\n",
        "            loss = criterion(outputs, labels)\n",
        "            val_loss += loss.item()\n",
        "            _, predicted = torch.max(outputs.data, 1)\n",
        "            total += labels.size(0)\n",
        "            correct += (predicted == labels).sum().item()\n",
        "\n",
        "    avg_train_loss = running_loss / len(train_loader)\n",
        "    avg_val_loss = val_loss / len(val_loader)\n",
        "    accuracy = 100 * correct / total\n",
        "\n",
        "    print(f'Epoch [{epoch+1}/{num_epochs}], Training Loss: {avg_train_loss:.4f}, '\n",
        "          f'Validation Loss: {avg_val_loss:.4f}, Validation Accuracy: {accuracy:.2f}%')\n",
        "\n",
        "print('Finished Training.')\n"
      ],
      "metadata": {
        "colab": {
          "base_uri": "https://localhost:8080/"
        },
        "id": "yEQ5kZ0D9Th3",
        "outputId": "6f7a488d-4584-4b66-df45-343ed2efdfb4"
      },
      "execution_count": 39,
      "outputs": [
        {
          "output_type": "stream",
          "name": "stdout",
          "text": [
            "Starting Training...\n",
            "Epoch [1/25], Training Loss: 1.7028, Validation Loss: 1.6183, Validation Accuracy: 33.33%\n",
            "Epoch [2/25], Training Loss: 1.4002, Validation Loss: 1.3745, Validation Accuracy: 40.49%\n",
            "Epoch [3/25], Training Loss: 1.2850, Validation Loss: 1.3494, Validation Accuracy: 50.86%\n",
            "Epoch [4/25], Training Loss: 1.1875, Validation Loss: 1.3198, Validation Accuracy: 47.65%\n",
            "Epoch [5/25], Training Loss: 1.1405, Validation Loss: 1.2911, Validation Accuracy: 50.86%\n",
            "Epoch [6/25], Training Loss: 1.0645, Validation Loss: 1.2321, Validation Accuracy: 56.05%\n",
            "Epoch [7/25], Training Loss: 1.0000, Validation Loss: 1.0782, Validation Accuracy: 60.00%\n",
            "Epoch [8/25], Training Loss: 0.9512, Validation Loss: 1.1957, Validation Accuracy: 61.23%\n",
            "Epoch [9/25], Training Loss: 0.8662, Validation Loss: 1.1748, Validation Accuracy: 59.51%\n",
            "Epoch [10/25], Training Loss: 0.8547, Validation Loss: 0.9697, Validation Accuracy: 64.94%\n",
            "Epoch [11/25], Training Loss: 0.8257, Validation Loss: 1.0404, Validation Accuracy: 61.23%\n",
            "Epoch [12/25], Training Loss: 0.7747, Validation Loss: 1.0693, Validation Accuracy: 65.43%\n",
            "Epoch [13/25], Training Loss: 0.7567, Validation Loss: 0.9494, Validation Accuracy: 66.42%\n",
            "Epoch [14/25], Training Loss: 0.7070, Validation Loss: 0.9943, Validation Accuracy: 67.41%\n",
            "Epoch [15/25], Training Loss: 0.6808, Validation Loss: 1.0192, Validation Accuracy: 68.40%\n",
            "Epoch [16/25], Training Loss: 0.6543, Validation Loss: 1.0478, Validation Accuracy: 68.64%\n",
            "Epoch [17/25], Training Loss: 0.6311, Validation Loss: 0.9979, Validation Accuracy: 69.38%\n",
            "Epoch [18/25], Training Loss: 0.5799, Validation Loss: 0.9644, Validation Accuracy: 69.88%\n",
            "Epoch [19/25], Training Loss: 0.5787, Validation Loss: 0.9283, Validation Accuracy: 71.60%\n",
            "Epoch [20/25], Training Loss: 0.5571, Validation Loss: 0.9480, Validation Accuracy: 70.86%\n",
            "Epoch [21/25], Training Loss: 0.5463, Validation Loss: 1.0255, Validation Accuracy: 71.11%\n",
            "Epoch [22/25], Training Loss: 0.5649, Validation Loss: 0.9401, Validation Accuracy: 68.89%\n",
            "Epoch [23/25], Training Loss: 0.4667, Validation Loss: 0.9632, Validation Accuracy: 71.11%\n",
            "Epoch [24/25], Training Loss: 0.4357, Validation Loss: 1.0184, Validation Accuracy: 70.37%\n",
            "Epoch [25/25], Training Loss: 0.4911, Validation Loss: 0.9678, Validation Accuracy: 71.36%\n",
            "Finished Training.\n"
          ]
        }
      ]
    },
    {
      "cell_type": "code",
      "source": [
        "# FINAL TEST EVALUATION\n",
        "print('Starting Final Evaluation on Test Set...')\n",
        "model.eval()\n",
        "test_loss = 0.0\n",
        "correct = 0\n",
        "total = 0\n",
        "with torch.no_grad():\n",
        "    for images, labels in test_loader:\n",
        "        images, labels = images.to(device), labels.to(device)\n",
        "        outputs = model(images)\n",
        "        test_loss += criterion(outputs, labels).item()\n",
        "        _, predicted = torch.max(outputs.data, 1)\n",
        "        total += labels.size(0)\n",
        "        correct += (predicted == labels).sum().item()\n",
        "\n",
        "avg_test_loss = test_loss / len(test_loader)\n",
        "accuracy = 100 * correct / total\n",
        "print(f'Final Test Loss: {avg_test_loss:.4f}, Final Test Accuracy: {accuracy:.2f}%')"
      ],
      "metadata": {
        "id": "rXKXmVPc_hRU",
        "colab": {
          "base_uri": "https://localhost:8080/"
        },
        "outputId": "4fb969e0-adcd-4a4d-9299-2e6263d72bf5"
      },
      "execution_count": 40,
      "outputs": [
        {
          "output_type": "stream",
          "name": "stdout",
          "text": [
            "Starting Final Evaluation on Test Set...\n",
            "Final Test Loss: 0.7798, Final Test Accuracy: 74.31%\n"
          ]
        }
      ]
    },
    {
      "cell_type": "code",
      "source": [
        "path='/content/drive/MyDrive/Garbage_classification/Data/bettermodel2.pth'\n",
        "torch.save(model.state_dict(), path)"
      ],
      "metadata": {
        "id": "fZJ5wXMoAOFc"
      },
      "execution_count": 41,
      "outputs": []
    },
    {
      "cell_type": "code",
      "source": [
        "model = GarbageCNN(classes=6)\n",
        "path = '/content/drive/MyDrive/Garbage_classification/Data/bettermodel2.pth'\n",
        "model.load_state_dict(torch.load(path))\n",
        "model.eval()\n",
        "device = torch.device('cuda' if torch.cuda.is_available() else 'cpu')\n",
        "model.to(device)\n",
        "\n",
        "def predict_image(image_path):\n",
        "    # Preprocessing prediction images\n",
        "    transformations = transforms.Compose([\n",
        "        transforms.Resize((256, 256)),\n",
        "        transforms.ToTensor(),\n",
        "        transforms.Normalize((0.5, 0.5, 0.5), (0.5, 0.5, 0.5))\n",
        "    ])\n",
        "    # Loading images\n",
        "    image = Image.open(image_path).convert('RGB')\n",
        "    image_tensor = transformations(image).unsqueeze(0).to(device)\n",
        "    class_names = [\"cardboard\", \"glass\", \"metal\", \"paper\", \"plastic\", \"trash\"]\n",
        "    # Prediction time\n",
        "    with torch.no_grad():\n",
        "        output = model(image_tensor)\n",
        "    _, predicted_idx = torch.max(output, 1)\n",
        "    predicted_class = class_names[predicted_idx.item()]\n",
        "    return predicted_class\n",
        "# Eg multiple images\n",
        "image_paths = [\n",
        "    '/content/drive/MyDrive/Garbage_classification/Data/paper/paper80.jpg',\n",
        "    '/content/drive/MyDrive/Garbage_classification/Data/plastic/plastic12.jpg',\n",
        "    '/content/drive/MyDrive/Garbage_classification/Data/glass/glass99.jpg',\n",
        "    '/content/drive/MyDrive/Garbage_classification/Data/cardboard/cardboard167.jpg',\n",
        "    '/content/drive/MyDrive/Garbage_classification/Data/metal/metal77.jpg',\n",
        "    '/content/drive/MyDrive/Garbage_classification/Data/trash/trash109.jpg',\n",
        "    '/content/drive/MyDrive/Garbage_classification/Data/trash/trash105.jpg'\n",
        "]\n",
        "\n",
        "for img_path in image_paths:\n",
        "    result = predict_image(img_path)\n",
        "    print(f\"The model predicts the image is: {result}\")\n"
      ],
      "metadata": {
        "colab": {
          "base_uri": "https://localhost:8080/"
        },
        "id": "WrbCU-0ILTzG",
        "outputId": "59469ae6-b419-48cf-8c35-b6942840ed53"
      },
      "execution_count": 42,
      "outputs": [
        {
          "output_type": "stream",
          "name": "stdout",
          "text": [
            "The model predicts the image is: paper\n",
            "The model predicts the image is: plastic\n",
            "The model predicts the image is: glass\n",
            "The model predicts the image is: cardboard\n",
            "The model predicts the image is: metal\n",
            "The model predicts the image is: paper\n",
            "The model predicts the image is: metal\n"
          ]
        }
      ]
    },
    {
      "cell_type": "code",
      "source": [
        "model.eval()\n",
        "all_preds = []\n",
        "all_labels = []\n",
        "\n",
        "with torch.no_grad():\n",
        "    for images, labels in val_loader:\n",
        "        images, labels = images.to(device), labels.to(device)\n",
        "        outputs = model(images)\n",
        "        _, preds = torch.max(outputs, 1)\n",
        "\n",
        "        all_preds.extend(preds.cpu().numpy())\n",
        "        all_labels.extend(labels.cpu().numpy())\n"
      ],
      "metadata": {
        "id": "-Fi28C3hN--8"
      },
      "execution_count": 43,
      "outputs": []
    },
    {
      "cell_type": "code",
      "source": [
        "cm = confusion_matrix(all_labels, all_preds)\n",
        "class_names = dataset.classes  # ['cardboard','glass','metal','paper','plastic','trash']\n",
        "\n",
        "plt.figure(figsize=(8,6))\n",
        "sns.heatmap(cm, annot=True, fmt='d', xticklabels=class_names, yticklabels=class_names, cmap=\"Blues\")\n",
        "plt.xlabel(\"Predicted\")\n",
        "plt.ylabel(\"Actual\")\n",
        "plt.title(\"Confusion Matrix\")\n",
        "plt.show()\n"
      ],
      "metadata": {
        "colab": {
          "base_uri": "https://localhost:8080/",
          "height": 564
        },
        "id": "d8-Mrdl3OBuD",
        "outputId": "d90bc30a-7ed9-4e29-9a8f-049d90bd58cd"
      },
      "execution_count": 44,
      "outputs": [
        {
          "output_type": "display_data",
          "data": {
            "text/plain": [
              "<Figure size 800x600 with 2 Axes>"
            ],
            "image/png": "[encoded data removed]"
          },
          "metadata": {}
        }
      ]
    },
    {
      "cell_type": "code",
      "source": [
        "# I ran 5 experiments with different params\n",
        "experiment_numbers = [1, 2, 3, 4, 5]\n",
        "final_accuracy = [0.16, 0.72, 0.74, 0.69, 0.67]\n",
        "\n",
        "plt.figure(figsize=(8,6))\n",
        "plt.plot(experiment_numbers, final_accuracy,)\n",
        "plt.title('Accuracy vs Number of Experiments')\n",
        "plt.xlabel('Experiment Number')\n",
        "plt.ylabel('Final Accuracy')\n",
        "plt.ylim(0, 1)\n",
        "plt.grid(True)\n",
        "plt.show()\n"
      ],
      "metadata": {
        "colab": {
          "base_uri": "https://localhost:8080/",
          "height": 564
        },
        "id": "g6rm-VZ-LhuZ",
        "outputId": "72f94741-bee2-40f7-8ee4-a4d04992622b"
      },
      "execution_count": 5,
      "outputs": [
        {
          "output_type": "display_data",
          "data": {
            "text/plain": [
              "<Figure size 800x600 with 1 Axes>"
            ],
            "image/png": "[encoded data removed]"
          },
          "metadata": {}
        }
      ]
    }
  ]
}