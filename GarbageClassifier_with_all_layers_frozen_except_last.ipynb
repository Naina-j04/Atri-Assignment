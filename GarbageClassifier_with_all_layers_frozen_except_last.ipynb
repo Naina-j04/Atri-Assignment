{
  "nbformat": 4,
  "nbformat_minor": 0,
  "metadata": {
    "colab": {
      "provenance": [],
      "gpuType": "T4",
      "mount_file_id": "1g7SS6DF4ZuRKtoHsdbeQ3XfIQjcBd_Cm",
      "authorship_tag": "ABX9TyOiKRf37lT2Ok0Tytpgpuga",
      "include_colab_link": true
    },
    "kernelspec": {
      "name": "python3",
      "display_name": "Python 3"
    },
    "language_info": {
      "name": "python"
    },
    "accelerator": "GPU"
  },
  "cells": [
    {
      "cell_type": "markdown",
      "metadata": {
        "id": "view-in-github",
        "colab_type": "text"
      },
      "source": [
        "<a href=\"https://colab.research.google.com/github/Naina-j04/Atri-Assignment/blob/main/GarbageClassifier_with_all_layers_frozen_except_last.ipynb\" target=\"_parent\"><img src=\"https://colab.research.google.com/assets/colab-badge.svg\" alt=\"Open In Colab\"/></a>"
      ]
    },
    {
      "cell_type": "code",
      "execution_count": null,
      "metadata": {
        "id": "TDOOcPLTCM6x"
      },
      "outputs": [],
      "source": [
        "import os\n",
        "import torch\n",
        "import torchvision\n",
        "from torch.utils.data import random_split\n",
        "import torchvision.models as models\n",
        "import torch.nn as nn\n",
        "import torch.nn.functional as F\n",
        "from torchvision import transforms\n",
        "from torch.utils.data import DataLoader\n",
        "import torch.optim as optim\n",
        "from PIL import Image\n",
        "from collections import Counter\n",
        "from sklearn.metrics import confusion_matrix\n",
        "import matplotlib.pyplot as plt\n",
        "import seaborn as sns\n"
      ]
    },
    {
      "cell_type": "code",
      "source": [
        "from google.colab import drive\n",
        "drive.mount('/content/drive')"
      ],
      "metadata": {
        "colab": {
          "base_uri": "https://localhost:8080/"
        },
        "id": "CRs0MnTSD2rc",
        "outputId": "a54dd1c3-7f14-4ef4-bdf6-f37ffe76e13f"
      },
      "execution_count": null,
      "outputs": [
        {
          "output_type": "stream",
          "name": "stdout",
          "text": [
            "Mounted at /content/drive\n"
          ]
        }
      ]
    },
    {
      "cell_type": "code",
      "source": [
        "#pointing to dataset\n",
        "data_dir  = '/content/drive/MyDrive/Garbage_classification/Data'\n",
        "\n",
        "classes = os.listdir(data_dir)\n",
        "print(classes)"
      ],
      "metadata": {
        "colab": {
          "base_uri": "https://localhost:8080/"
        },
        "id": "0ORVPfMbCfwS",
        "outputId": "d2dd438c-8b82-4a91-d5e9-6a2d02440f87"
      },
      "execution_count": null,
      "outputs": [
        {
          "output_type": "stream",
          "name": "stdout",
          "text": [
            "['plastic', 'trash', 'paper', 'glass', 'metal', 'cardboard', 'garbage.pth', 'bettermodel.pth', 'bettermodel2.pth']\n"
          ]
        }
      ]
    },
    {
      "cell_type": "code",
      "source": [
        "#resizing and normalizing the dataset\n",
        "from torchvision.datasets import ImageFolder\n",
        "import torchvision.transforms as transforms\n",
        "\n",
        "transformations = transforms.Compose([transforms.Resize((256, 256)),transforms.RandomHorizontalFlip(),\n",
        "                                      transforms.RandomRotation(10),transforms.ToTensor(),\n",
        "                                      transforms.Normalize((0.5, 0.5, 0.5), (0.5, 0.5, 0.5))])\n",
        "\n",
        "dataset = ImageFolder(data_dir, transform = transformations)"
      ],
      "metadata": {
        "id": "Rn2Q0WW2EXTd"
      },
      "execution_count": null,
      "outputs": []
    },
    {
      "cell_type": "code",
      "source": [
        "len(dataset)\n"
      ],
      "metadata": {
        "colab": {
          "base_uri": "https://localhost:8080/"
        },
        "id": "WASsrWTUmxpx",
        "outputId": "a70a6ead-f2fe-479a-85f6-a075b6c0b9ee"
      },
      "execution_count": null,
      "outputs": [
        {
          "output_type": "execute_result",
          "data": {
            "text/plain": [
              "2527"
            ]
          },
          "metadata": {},
          "execution_count": 5
        }
      ]
    },
    {
      "cell_type": "code",
      "source": [
        "#splitting the dataset\n",
        "train_data,val_data,test_data=random_split(dataset,[1616,405,506])\n",
        "len(train_data),len(val_data),len(test_data)"
      ],
      "metadata": {
        "colab": {
          "base_uri": "https://localhost:8080/"
        },
        "id": "p4FX9gWwnXRr",
        "outputId": "2481b88c-ab5b-4b58-886d-bc8c622eb087"
      },
      "execution_count": null,
      "outputs": [
        {
          "output_type": "execute_result",
          "data": {
            "text/plain": [
              "(1616, 405, 506)"
            ]
          },
          "metadata": {},
          "execution_count": 7
        }
      ]
    },
    {
      "cell_type": "code",
      "source": [
        "#checking how many images from each class split b/w TVT\n",
        "train_idx = train_data.indices\n",
        "val_idx   = val_data.indices\n",
        "test_idx  = test_data.indices\n",
        "\n",
        "print(\"Train class counts:\", Counter([dataset.targets[i] for i in train_idx]))\n",
        "print(\"Val class counts:\", Counter([dataset.targets[i] for i in val_idx]))\n",
        "print(\"Test class counts:\", Counter([dataset.targets[i] for i in test_idx]))\n"
      ],
      "metadata": {
        "colab": {
          "base_uri": "https://localhost:8080/"
        },
        "id": "pJcAQd_VA0ZC",
        "outputId": "2209c623-f20a-411b-fa04-e003c57eae53"
      },
      "execution_count": null,
      "outputs": [
        {
          "output_type": "stream",
          "name": "stdout",
          "text": [
            "Train class counts: Counter({3: 372, 1: 338, 4: 294, 0: 275, 2: 267, 5: 70})\n",
            "Val class counts: Counter({3: 95, 4: 87, 1: 83, 2: 59, 0: 51, 5: 30})\n",
            "Test class counts: Counter({3: 127, 4: 101, 2: 84, 1: 80, 0: 77, 5: 37})\n"
          ]
        }
      ]
    },
    {
      "cell_type": "code",
      "source": [
        "model = models.resnet50(weights='DEFAULT')\n",
        "\n",
        "# Freeze the pre-trained layers\n",
        "for param in model.parameters():\n",
        "    param.requires_grad = False\n",
        "\n",
        "# Replace the final fully connected layer for your 6 classes\n",
        "num_ftrs = model.fc.in_features\n",
        "model.fc = nn.Linear(num_ftrs, 6)\n",
        "\n",
        "# Move the model to the appropriate device\n",
        "device = torch.device('cuda' if torch.cuda.is_available() else 'cpu')\n",
        "model = model.to(device)"
      ],
      "metadata": {
        "id": "9jCzDDS2oMuI",
        "colab": {
          "base_uri": "https://localhost:8080/"
        },
        "outputId": "9539deaf-c2fb-471b-8097-780315e5f2a3"
      },
      "execution_count": null,
      "outputs": [
        {
          "output_type": "stream",
          "name": "stdout",
          "text": [
            "Downloading: \"https://download.pytorch.org/models/resnet50-11ad3fa6.pth\" to /root/.cache/torch/hub/checkpoints/resnet50-11ad3fa6.pth\n"
          ]
        },
        {
          "output_type": "stream",
          "name": "stderr",
          "text": [
            "100%|██████████| 97.8M/97.8M [00:00<00:00, 125MB/s]\n"
          ]
        }
      ]
    },
    {
      "cell_type": "code",
      "source": [
        "#dataloader\n",
        "train_loader=DataLoader(train_data,batch_size=32,shuffle=True)\n",
        "val_loader=DataLoader(val_data,batch_size=32,shuffle=False)\n",
        "test_loader=DataLoader(test_data,batch_size=32,shuffle=False)"
      ],
      "metadata": {
        "id": "hHgEtbGPuHpL"
      },
      "execution_count": null,
      "outputs": []
    },
    {
      "cell_type": "code",
      "source": [
        "#defining the training components\n",
        "classes=6\n",
        "model=models.resnet50(classes)\n",
        "criterion=nn.CrossEntropyLoss()\n",
        "optimizer=optim.Adam(model.parameters(),lr=0.001)\n",
        "device = torch.device('cuda' if torch.cuda.is_available() else 'cpu')\n",
        "model.to(device)\n",
        "device"
      ],
      "metadata": {
        "colab": {
          "base_uri": "https://localhost:8080/"
        },
        "id": "3g55FGaOvAtL",
        "outputId": "895dc0d5-5b56-41cf-c39e-f51affa8519f"
      },
      "execution_count": null,
      "outputs": [
        {
          "output_type": "stream",
          "name": "stderr",
          "text": [
            "/usr/local/lib/python3.12/dist-packages/torchvision/models/_utils.py:135: UserWarning: Using 'weights' as positional parameter(s) is deprecated since 0.13 and may be removed in the future. Please use keyword parameter(s) instead.\n",
            "  warnings.warn(\n",
            "/usr/local/lib/python3.12/dist-packages/torchvision/models/_utils.py:223: UserWarning: Arguments other than a weight enum or `None` for 'weights' are deprecated since 0.13 and may be removed in the future. The current behavior is equivalent to passing `weights=ResNet50_Weights.IMAGENET1K_V1`. You can also use `weights=ResNet50_Weights.DEFAULT` to get the most up-to-date weights.\n",
            "  warnings.warn(msg)\n"
          ]
        },
        {
          "output_type": "stream",
          "name": "stdout",
          "text": [
            "Downloading: \"https://download.pytorch.org/models/resnet50-0676ba61.pth\" to /root/.cache/torch/hub/checkpoints/resnet50-0676ba61.pth\n"
          ]
        },
        {
          "output_type": "stream",
          "name": "stderr",
          "text": [
            "100%|██████████| 97.8M/97.8M [00:00<00:00, 188MB/s]\n"
          ]
        },
        {
          "output_type": "execute_result",
          "data": {
            "text/plain": [
              "device(type='cuda')"
            ]
          },
          "metadata": {},
          "execution_count": 15
        }
      ]
    },
    {
      "cell_type": "code",
      "source": [
        "num_epochs = 25\n",
        "print(\"Starting Training...\")\n",
        "for epoch in range(num_epochs):\n",
        "    model.train()\n",
        "    running_loss = 0.0\n",
        "    for images, labels in train_loader:\n",
        "        images, labels = images.to(device), labels.to(device)\n",
        "        optimizer.zero_grad()\n",
        "        outputs = model(images)\n",
        "        loss = criterion(outputs, labels)\n",
        "        loss.backward()\n",
        "        optimizer.step()\n",
        "        running_loss += loss.item()\n",
        "    model.eval()\n",
        "    val_loss = 0.0\n",
        "    correct = 0\n",
        "    total = 0\n",
        "    with torch.no_grad():\n",
        "        for images, labels in val_loader:\n",
        "            images, labels = images.to(device), labels.to(device)\n",
        "            outputs = model(images)\n",
        "            loss = criterion(outputs, labels)\n",
        "            val_loss += loss.item()\n",
        "            _, predicted = torch.max(outputs.data, 1)\n",
        "            total += labels.size(0)\n",
        "            correct += (predicted == labels).sum().item()\n",
        "\n",
        "    avg_train_loss = running_loss / len(train_loader)\n",
        "    avg_val_loss = val_loss / len(val_loader)\n",
        "    accuracy = 100 * correct / total\n",
        "\n",
        "    print(f'Epoch [{epoch+1}/{num_epochs}], Training Loss: {avg_train_loss:.4f}, '\n",
        "          f'Validation Loss: {avg_val_loss:.4f}, Validation Accuracy: {accuracy:.2f}%')\n",
        "\n",
        "print('Finished Training.')\n"
      ],
      "metadata": {
        "colab": {
          "base_uri": "https://localhost:8080/"
        },
        "id": "yEQ5kZ0D9Th3",
        "outputId": "a400db25-9267-4ffd-ecb2-0eaf309bfe8a"
      },
      "execution_count": null,
      "outputs": [
        {
          "output_type": "stream",
          "name": "stdout",
          "text": [
            "Starting Training...\n",
            "Epoch [1/25], Training Loss: 1.5379, Validation Loss: 1.0001, Validation Accuracy: 65.19%\n",
            "Epoch [2/25], Training Loss: 0.8357, Validation Loss: 1.2859, Validation Accuracy: 64.20%\n",
            "Epoch [3/25], Training Loss: 0.6953, Validation Loss: 0.7691, Validation Accuracy: 72.59%\n",
            "Epoch [4/25], Training Loss: 0.5729, Validation Loss: 1.5327, Validation Accuracy: 60.99%\n",
            "Epoch [5/25], Training Loss: 0.5471, Validation Loss: 0.6197, Validation Accuracy: 77.28%\n",
            "Epoch [6/25], Training Loss: 0.4944, Validation Loss: 0.8610, Validation Accuracy: 73.09%\n",
            "Epoch [7/25], Training Loss: 0.4838, Validation Loss: 0.5758, Validation Accuracy: 82.22%\n",
            "Epoch [8/25], Training Loss: 0.3669, Validation Loss: 0.6081, Validation Accuracy: 79.26%\n",
            "Epoch [9/25], Training Loss: 0.3369, Validation Loss: 0.9287, Validation Accuracy: 71.60%\n",
            "Epoch [10/25], Training Loss: 0.3804, Validation Loss: 0.5984, Validation Accuracy: 81.98%\n",
            "Epoch [11/25], Training Loss: 0.3089, Validation Loss: 0.5180, Validation Accuracy: 83.70%\n",
            "Epoch [12/25], Training Loss: 0.3486, Validation Loss: 0.6638, Validation Accuracy: 80.49%\n",
            "Epoch [13/25], Training Loss: 0.2519, Validation Loss: 0.6134, Validation Accuracy: 82.96%\n",
            "Epoch [14/25], Training Loss: 0.2071, Validation Loss: 0.7013, Validation Accuracy: 81.73%\n",
            "Epoch [15/25], Training Loss: 0.2725, Validation Loss: 0.6146, Validation Accuracy: 80.25%\n",
            "Epoch [16/25], Training Loss: 0.1845, Validation Loss: 0.9116, Validation Accuracy: 77.28%\n",
            "Epoch [17/25], Training Loss: 0.2649, Validation Loss: 0.7417, Validation Accuracy: 78.77%\n",
            "Epoch [18/25], Training Loss: 0.2204, Validation Loss: 0.6053, Validation Accuracy: 81.98%\n",
            "Epoch [19/25], Training Loss: 0.2400, Validation Loss: 0.6456, Validation Accuracy: 80.99%\n",
            "Epoch [20/25], Training Loss: 0.1876, Validation Loss: 0.4220, Validation Accuracy: 86.42%\n",
            "Epoch [21/25], Training Loss: 0.1231, Validation Loss: 0.4833, Validation Accuracy: 85.43%\n",
            "Epoch [22/25], Training Loss: 0.2155, Validation Loss: 0.8951, Validation Accuracy: 77.28%\n",
            "Epoch [23/25], Training Loss: 0.1974, Validation Loss: 0.5178, Validation Accuracy: 82.22%\n",
            "Epoch [24/25], Training Loss: 0.1360, Validation Loss: 0.5230, Validation Accuracy: 85.43%\n",
            "Epoch [25/25], Training Loss: 0.0889, Validation Loss: 0.4984, Validation Accuracy: 84.69%\n",
            "Finished Training.\n"
          ]
        }
      ]
    },
    {
      "cell_type": "code",
      "source": [
        "# FINAL TEST EVALUATION\n",
        "print('Starting Final Evaluation on Test Set...')\n",
        "model.eval()\n",
        "test_loss = 0.0\n",
        "correct = 0\n",
        "total = 0\n",
        "with torch.no_grad():\n",
        "    for images, labels in test_loader:\n",
        "        images, labels = images.to(device), labels.to(device)\n",
        "        outputs = model(images)\n",
        "        test_loss += criterion(outputs, labels).item()\n",
        "        _, predicted = torch.max(outputs.data, 1)\n",
        "        total += labels.size(0)\n",
        "        correct += (predicted == labels).sum().item()\n",
        "\n",
        "avg_test_loss = test_loss / len(test_loader)\n",
        "accuracy = 100 * correct / total\n",
        "print(f'Final Test Loss: {avg_test_loss:.4f}, Final Test Accuracy: {accuracy:.2f}%')"
      ],
      "metadata": {
        "id": "rXKXmVPc_hRU",
        "colab": {
          "base_uri": "https://localhost:8080/"
        },
        "outputId": "286d4d33-a7ff-4aeb-fb3f-f6c53ef2fc10"
      },
      "execution_count": null,
      "outputs": [
        {
          "output_type": "stream",
          "name": "stdout",
          "text": [
            "Starting Final Evaluation on Test Set...\n",
            "Final Test Loss: 0.4619, Final Test Accuracy: 86.56%\n"
          ]
        }
      ]
    },
    {
      "cell_type": "code",
      "source": [
        "path='/content/drive/MyDrive/Garbage_classification/Data/model_resnet1.pth'\n",
        "torch.save(model.state_dict(), path)"
      ],
      "metadata": {
        "id": "fZJ5wXMoAOFc"
      },
      "execution_count": null,
      "outputs": []
    },
    {
      "cell_type": "code",
      "source": [
        "model = models.resnet50()\n",
        "path = '/content/drive/MyDrive/Garbage_classification/Data/model_resnet1.pth'\n",
        "model.load_state_dict(torch.load(path))\n",
        "model.eval()\n",
        "device = torch.device('cuda' if torch.cuda.is_available() else 'cpu')\n",
        "model.to(device)\n",
        "\n",
        "def predict_image(image_path):\n",
        "    # Preprocessing prediction images\n",
        "    transformations = transforms.Compose([\n",
        "        transforms.Resize((256, 256)),\n",
        "        transforms.ToTensor(),\n",
        "        transforms.Normalize((0.5, 0.5, 0.5), (0.5, 0.5, 0.5))\n",
        "    ])\n",
        "    # Loading images\n",
        "    image = Image.open(image_path).convert('RGB')\n",
        "    image_tensor = transformations(image).unsqueeze(0).to(device)\n",
        "    class_names = [\"cardboard\", \"glass\", \"metal\", \"paper\", \"plastic\", \"trash\"]\n",
        "    # Prediction time\n",
        "    with torch.no_grad():\n",
        "        output = model(image_tensor)\n",
        "    _, predicted_idx = torch.max(output, 1)\n",
        "    predicted_class = class_names[predicted_idx.item()]\n",
        "    return predicted_class\n",
        "# Eg multiple images\n",
        "image_paths = [\n",
        "    '/content/drive/MyDrive/Garbage_classification/Data/paper/paper80.jpg',\n",
        "    '/content/drive/MyDrive/Garbage_classification/Data/plastic/plastic12.jpg',\n",
        "    '/content/drive/MyDrive/Garbage_classification/Data/glass/glass99.jpg',\n",
        "    '/content/drive/MyDrive/Garbage_classification/Data/cardboard/cardboard167.jpg',\n",
        "    '/content/drive/MyDrive/Garbage_classification/Data/metal/metal77.jpg',\n",
        "    '/content/drive/MyDrive/Garbage_classification/Data/trash/trash109.jpg',\n",
        "    '/content/drive/MyDrive/Garbage_classification/Data/trash/trash105.jpg'\n",
        "]\n",
        "\n",
        "for img_path in image_paths:\n",
        "    result = predict_image(img_path)\n",
        "    print(f\"The model predicts the image is: {result}\")\n"
      ],
      "metadata": {
        "colab": {
          "base_uri": "https://localhost:8080/"
        },
        "id": "WrbCU-0ILTzG",
        "outputId": "a66659ae-5b50-48c0-8fee-6c0144d8b55d"
      },
      "execution_count": null,
      "outputs": [
        {
          "output_type": "stream",
          "name": "stdout",
          "text": [
            "The model predicts the image is: paper\n",
            "The model predicts the image is: plastic\n",
            "The model predicts the image is: glass\n",
            "The model predicts the image is: glass\n",
            "The model predicts the image is: metal\n",
            "The model predicts the image is: trash\n",
            "The model predicts the image is: trash\n"
          ]
        }
      ]
    },
    {
      "cell_type": "code",
      "source": [
        "model.eval()\n",
        "all_preds = []\n",
        "all_labels = []\n",
        "\n",
        "with torch.no_grad():\n",
        "    for images, labels in val_loader:\n",
        "        images, labels = images.to(device), labels.to(device)\n",
        "        outputs = model(images)\n",
        "        _, preds = torch.max(outputs, 1)\n",
        "\n",
        "        all_preds.extend(preds.cpu().numpy())\n",
        "        all_labels.extend(labels.cpu().numpy())\n"
      ],
      "metadata": {
        "id": "-Fi28C3hN--8"
      },
      "execution_count": null,
      "outputs": []
    },
    {
      "cell_type": "code",
      "source": [
        "cm = confusion_matrix(all_labels, all_preds)\n",
        "class_names = dataset.classes  # ['cardboard','glass','metal','paper','plastic','trash']\n",
        "\n",
        "plt.figure(figsize=(8,6))\n",
        "sns.heatmap(cm, annot=True, fmt='d', xticklabels=class_names, yticklabels=class_names, cmap=\"Blues\")\n",
        "plt.xlabel(\"Predicted\")\n",
        "plt.ylabel(\"Actual\")\n",
        "plt.title(\"Confusion Matrix\")\n",
        "plt.show()\n"
      ],
      "metadata": {
        "colab": {
          "base_uri": "https://localhost:8080/",
          "height": 564
        },
        "id": "d8-Mrdl3OBuD",
        "outputId": "bda0eab5-8327-450e-d131-592e7139b7cf"
      },
      "execution_count": null,
      "outputs": [
        {
          "output_type": "display_data",
          "data": {
            "text/plain": [
              "<Figure size 800x600 with 2 Axes>"
            ],
            "image/png": "[encoded data removed]"
          },
          "metadata": {}
        }
      ]
    },
    {
      "cell_type": "code",
      "source": [],
      "metadata": {
        "id": "lYbQGKIT2I5f"
      },
      "execution_count": null,
      "outputs": []
    }
  ]
}