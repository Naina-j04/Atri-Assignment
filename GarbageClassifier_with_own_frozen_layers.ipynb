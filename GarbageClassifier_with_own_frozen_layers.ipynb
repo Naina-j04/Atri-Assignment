{
  "nbformat": 4,
  "nbformat_minor": 0,
  "metadata": {
    "colab": {
      "provenance": [],
      "gpuType": "T4",
      "mount_file_id": "1g7SS6DF4ZuRKtoHsdbeQ3XfIQjcBd_Cm",
      "authorship_tag": "ABX9TyMBy/YPs6mI6x5vy0VzXZos",
      "include_colab_link": true
    },
    "kernelspec": {
      "name": "python3",
      "display_name": "Python 3"
    },
    "language_info": {
      "name": "python"
    },
    "accelerator": "GPU"
  },
  "cells": [
    {
      "cell_type": "markdown",
      "metadata": {
        "id": "view-in-github",
        "colab_type": "text"
      },
      "source": [
        "<a href=\"https://colab.research.google.com/github/Naina-j04/Atri-Assignment/blob/main/GarbageClassifier_with_own_frozen_layers.ipynb\" target=\"_parent\"><img src=\"https://colab.research.google.com/assets/colab-badge.svg\" alt=\"Open In Colab\"/></a>"
      ]
    },
    {
      "cell_type": "code",
      "execution_count": 1,
      "metadata": {
        "id": "TDOOcPLTCM6x"
      },
      "outputs": [],
      "source": [
        "import os\n",
        "import torch\n",
        "import torchvision\n",
        "from torch.utils.data import random_split\n",
        "import torchvision.models as models\n",
        "import torch.nn as nn\n",
        "import torch.nn.functional as F\n",
        "from torchvision import transforms\n",
        "from torch.utils.data import DataLoader\n",
        "import torch.optim as optim\n",
        "from PIL import Image\n",
        "from collections import Counter\n",
        "from sklearn.metrics import confusion_matrix\n",
        "import matplotlib.pyplot as plt\n",
        "import seaborn as sns\n"
      ]
    },
    {
      "cell_type": "code",
      "source": [
        "from google.colab import drive\n",
        "drive.mount('/content/drive')"
      ],
      "metadata": {
        "colab": {
          "base_uri": "https://localhost:8080/"
        },
        "id": "CRs0MnTSD2rc",
        "outputId": "4e1be972-5ab3-472d-ac1b-e36f2c2a9552"
      },
      "execution_count": 2,
      "outputs": [
        {
          "output_type": "stream",
          "name": "stdout",
          "text": [
            "Mounted at /content/drive\n"
          ]
        }
      ]
    },
    {
      "cell_type": "code",
      "source": [
        "#pointing to dataset\n",
        "data_dir  = '/content/drive/MyDrive/Garbage_classification/Data'\n",
        "\n",
        "classes = os.listdir(data_dir)\n",
        "print(classes)"
      ],
      "metadata": {
        "colab": {
          "base_uri": "https://localhost:8080/"
        },
        "id": "0ORVPfMbCfwS",
        "outputId": "bcc4cd7a-b0b8-4481-fa99-6cb219e4dedd"
      },
      "execution_count": 3,
      "outputs": [
        {
          "output_type": "stream",
          "name": "stdout",
          "text": [
            "['plastic', 'trash', 'paper', 'glass', 'metal', 'cardboard', 'garbage.pth', 'bettermodel.pth', 'bettermodel2.pth', 'model_resnet1.pth']\n"
          ]
        }
      ]
    },
    {
      "cell_type": "code",
      "source": [
        "#resizing and normalizing the dataset\n",
        "from torchvision.datasets import ImageFolder\n",
        "import torchvision.transforms as transforms\n",
        "\n",
        "transformations = transforms.Compose([transforms.Resize((256, 256)),transforms.RandomHorizontalFlip(),\n",
        "                                      transforms.RandomRotation(10),transforms.ToTensor(),\n",
        "                                      transforms.Normalize((0.5, 0.5, 0.5), (0.5, 0.5, 0.5))])\n",
        "\n",
        "dataset = ImageFolder(data_dir, transform = transformations)"
      ],
      "metadata": {
        "id": "Rn2Q0WW2EXTd"
      },
      "execution_count": 4,
      "outputs": []
    },
    {
      "cell_type": "code",
      "source": [
        "len(dataset)\n"
      ],
      "metadata": {
        "colab": {
          "base_uri": "https://localhost:8080/"
        },
        "id": "WASsrWTUmxpx",
        "outputId": "345c91ed-281a-476b-d6d8-40da34066c94"
      },
      "execution_count": 5,
      "outputs": [
        {
          "output_type": "execute_result",
          "data": {
            "text/plain": [
              "2527"
            ]
          },
          "metadata": {},
          "execution_count": 5
        }
      ]
    },
    {
      "cell_type": "code",
      "source": [
        "#splitting the dataset\n",
        "train_data,val_data,test_data=random_split(dataset,[1616,405,506])\n",
        "len(train_data),len(val_data),len(test_data)"
      ],
      "metadata": {
        "colab": {
          "base_uri": "https://localhost:8080/"
        },
        "id": "p4FX9gWwnXRr",
        "outputId": "a09242cd-de91-4857-ea30-1b37341d9327"
      },
      "execution_count": 6,
      "outputs": [
        {
          "output_type": "execute_result",
          "data": {
            "text/plain": [
              "(1616, 405, 506)"
            ]
          },
          "metadata": {},
          "execution_count": 6
        }
      ]
    },
    {
      "cell_type": "code",
      "source": [
        "#checking how many images from each class split b/w TVT\n",
        "train_idx = train_data.indices\n",
        "val_idx   = val_data.indices\n",
        "test_idx  = test_data.indices\n",
        "\n",
        "print(\"Train class counts:\", Counter([dataset.targets[i] for i in train_idx]))\n",
        "print(\"Val class counts:\", Counter([dataset.targets[i] for i in val_idx]))\n",
        "print(\"Test class counts:\", Counter([dataset.targets[i] for i in test_idx]))\n"
      ],
      "metadata": {
        "colab": {
          "base_uri": "https://localhost:8080/"
        },
        "id": "pJcAQd_VA0ZC",
        "outputId": "c5b3613b-56f8-4d2e-ae49-1987176e869a"
      },
      "execution_count": 7,
      "outputs": [
        {
          "output_type": "stream",
          "name": "stdout",
          "text": [
            "Train class counts: Counter({3: 369, 1: 337, 4: 321, 2: 270, 0: 231, 5: 88})\n",
            "Val class counts: Counter({3: 110, 1: 74, 0: 73, 4: 70, 2: 52, 5: 26})\n",
            "Test class counts: Counter({3: 115, 0: 99, 4: 91, 1: 90, 2: 88, 5: 23})\n"
          ]
        }
      ]
    },
    {
      "cell_type": "code",
      "source": [
        "model = models.resnet50(weights='DEFAULT')\n",
        "\n",
        "# Freeze the pre-trained layers\n",
        "for name,child in (model.named_children()):\n",
        "  if name in ['conv1','bn1','layer1','layer2']:\n",
        "    for param in child.parameters():\n",
        "      param.requires_grad = False\n",
        "\n",
        "# Replace the final fully connected layer for your 6 classes\n",
        "num_ftrs = model.fc.in_features\n",
        "model.fc = nn.Linear(num_ftrs, 6)\n",
        "\n",
        "# Move the model to the appropriate device\n",
        "device = torch.device('cuda' if torch.cuda.is_available() else 'cpu')\n",
        "model = model.to(device)"
      ],
      "metadata": {
        "id": "9jCzDDS2oMuI"
      },
      "execution_count": 20,
      "outputs": []
    },
    {
      "cell_type": "code",
      "source": [
        "#dataloader\n",
        "train_loader=DataLoader(train_data,batch_size=32,shuffle=True)\n",
        "val_loader=DataLoader(val_data,batch_size=32,shuffle=False)\n",
        "test_loader=DataLoader(test_data,batch_size=32,shuffle=False)"
      ],
      "metadata": {
        "id": "hHgEtbGPuHpL"
      },
      "execution_count": 21,
      "outputs": []
    },
    {
      "cell_type": "code",
      "source": [
        "#defining the training components\n",
        "classes=6\n",
        "model=models.resnet50(classes)\n",
        "criterion=nn.CrossEntropyLoss()\n",
        "optimizer=optim.Adam(model.parameters(),lr=0.001)\n",
        "device = torch.device('cuda' if torch.cuda.is_available() else 'cpu')\n",
        "model.to(device)\n",
        "device"
      ],
      "metadata": {
        "colab": {
          "base_uri": "https://localhost:8080/"
        },
        "id": "3g55FGaOvAtL",
        "outputId": "1320c761-08c2-4c25-9fa7-c7ab97bdd7f5"
      },
      "execution_count": 22,
      "outputs": [
        {
          "output_type": "stream",
          "name": "stderr",
          "text": [
            "/usr/local/lib/python3.12/dist-packages/torchvision/models/_utils.py:135: UserWarning: Using 'weights' as positional parameter(s) is deprecated since 0.13 and may be removed in the future. Please use keyword parameter(s) instead.\n",
            "  warnings.warn(\n",
            "/usr/local/lib/python3.12/dist-packages/torchvision/models/_utils.py:223: UserWarning: Arguments other than a weight enum or `None` for 'weights' are deprecated since 0.13 and may be removed in the future. The current behavior is equivalent to passing `weights=ResNet50_Weights.IMAGENET1K_V1`. You can also use `weights=ResNet50_Weights.DEFAULT` to get the most up-to-date weights.\n",
            "  warnings.warn(msg)\n"
          ]
        },
        {
          "output_type": "execute_result",
          "data": {
            "text/plain": [
              "device(type='cuda')"
            ]
          },
          "metadata": {},
          "execution_count": 22
        }
      ]
    },
    {
      "cell_type": "code",
      "source": [
        "num_epochs = 20\n",
        "print(\"Starting Training...\")\n",
        "for epoch in range(num_epochs):\n",
        "    model.train()\n",
        "    running_loss = 0.0\n",
        "    for images, labels in train_loader:\n",
        "        images, labels = images.to(device), labels.to(device)\n",
        "        optimizer.zero_grad()\n",
        "        outputs = model(images)\n",
        "        loss = criterion(outputs, labels)\n",
        "        loss.backward()\n",
        "        optimizer.step()\n",
        "        running_loss += loss.item()\n",
        "    model.eval()\n",
        "    val_loss = 0.0\n",
        "    correct = 0\n",
        "    total = 0\n",
        "\n",
        "    with torch.no_grad():\n",
        "        for images, labels in val_loader:\n",
        "            images, labels = images.to(device), labels.to(device)\n",
        "            outputs = model(images)\n",
        "            loss = criterion(outputs, labels)\n",
        "            val_loss += loss.item()\n",
        "            _, predicted = torch.max(outputs.data, 1)\n",
        "            total += labels.size(0)\n",
        "            correct += (predicted == labels).sum().item()\n",
        "\n",
        "    avg_train_loss = running_loss / len(train_loader)\n",
        "    avg_val_loss = val_loss / len(val_loader)\n",
        "    accuracy = 100 * correct / total\n",
        "\n",
        "    print(f'Epoch [{epoch+1}/{num_epochs}], Training Loss: {avg_train_loss:.4f}, '\n",
        "          f'Validation Loss: {avg_val_loss:.4f}, Validation Accuracy: {accuracy:.2f}%')\n",
        "\n",
        "print('Finished Training.')\n"
      ],
      "metadata": {
        "colab": {
          "base_uri": "https://localhost:8080/"
        },
        "id": "yEQ5kZ0D9Th3",
        "outputId": "19047e76-158e-4cee-e9ed-7f5b37280850"
      },
      "execution_count": 24,
      "outputs": [
        {
          "output_type": "stream",
          "name": "stdout",
          "text": [
            "Starting Training...\n",
            "Epoch [1/20], Training Loss: 0.8354, Validation Loss: 1.9691, Validation Accuracy: 51.60%\n",
            "Epoch [2/20], Training Loss: 0.7528, Validation Loss: 0.9878, Validation Accuracy: 69.63%\n",
            "Epoch [3/20], Training Loss: 0.5923, Validation Loss: 0.9271, Validation Accuracy: 70.86%\n",
            "Epoch [4/20], Training Loss: 0.5570, Validation Loss: 0.6223, Validation Accuracy: 78.52%\n",
            "Epoch [5/20], Training Loss: 0.4990, Validation Loss: 0.7674, Validation Accuracy: 75.06%\n",
            "Epoch [6/20], Training Loss: 0.4871, Validation Loss: 0.8559, Validation Accuracy: 72.84%\n",
            "Epoch [7/20], Training Loss: 0.4460, Validation Loss: 2.2511, Validation Accuracy: 64.94%\n",
            "Epoch [8/20], Training Loss: 0.5155, Validation Loss: 0.7564, Validation Accuracy: 73.58%\n",
            "Epoch [9/20], Training Loss: 0.3186, Validation Loss: 1.5596, Validation Accuracy: 67.65%\n",
            "Epoch [10/20], Training Loss: 0.3333, Validation Loss: 0.8329, Validation Accuracy: 75.31%\n",
            "Epoch [11/20], Training Loss: 0.2834, Validation Loss: 0.7189, Validation Accuracy: 77.04%\n",
            "Epoch [12/20], Training Loss: 0.2476, Validation Loss: 0.5727, Validation Accuracy: 81.73%\n",
            "Epoch [13/20], Training Loss: 0.2003, Validation Loss: 0.4575, Validation Accuracy: 84.69%\n",
            "Epoch [14/20], Training Loss: 0.1878, Validation Loss: 0.5876, Validation Accuracy: 82.72%\n",
            "Epoch [15/20], Training Loss: 0.2503, Validation Loss: 1.1247, Validation Accuracy: 73.33%\n",
            "Epoch [16/20], Training Loss: 0.2364, Validation Loss: 0.6724, Validation Accuracy: 82.72%\n",
            "Epoch [17/20], Training Loss: 0.2259, Validation Loss: 0.5712, Validation Accuracy: 82.72%\n",
            "Epoch [18/20], Training Loss: 0.1943, Validation Loss: 0.5977, Validation Accuracy: 83.95%\n",
            "Epoch [19/20], Training Loss: 0.1996, Validation Loss: 0.5601, Validation Accuracy: 84.44%\n",
            "Epoch [20/20], Training Loss: 0.1684, Validation Loss: 0.7487, Validation Accuracy: 80.25%\n",
            "Finished Training.\n"
          ]
        }
      ]
    },
    {
      "cell_type": "code",
      "source": [
        "# FINAL TEST EVALUATION\n",
        "print('Starting Final Evaluation on Test Set...')\n",
        "model.eval()\n",
        "test_loss = 0.0\n",
        "correct = 0\n",
        "total = 0\n",
        "with torch.no_grad():\n",
        "    for images, labels in test_loader:\n",
        "        images, labels = images.to(device), labels.to(device)\n",
        "        outputs = model(images)\n",
        "        test_loss += criterion(outputs, labels).item()\n",
        "        _, predicted = torch.max(outputs.data, 1)\n",
        "        total += labels.size(0)\n",
        "        correct += (predicted == labels).sum().item()\n",
        "\n",
        "avg_test_loss = test_loss / len(test_loader)\n",
        "accuracy = 100 * correct / total\n",
        "print(f'Final Test Loss: {avg_test_loss:.4f}, Final Test Accuracy: {accuracy:.2f}%')"
      ],
      "metadata": {
        "id": "rXKXmVPc_hRU",
        "colab": {
          "base_uri": "https://localhost:8080/"
        },
        "outputId": "b1b42fcc-93a6-4832-b37e-54fbc6d18332"
      },
      "execution_count": 25,
      "outputs": [
        {
          "output_type": "stream",
          "name": "stdout",
          "text": [
            "Starting Final Evaluation on Test Set...\n",
            "Final Test Loss: 0.7127, Final Test Accuracy: 81.62%\n"
          ]
        }
      ]
    },
    {
      "cell_type": "code",
      "source": [
        "path='/content/drive/MyDrive/Garbage_classification/Data/model_resnet3.pth'\n",
        "torch.save(model.state_dict(), path)"
      ],
      "metadata": {
        "id": "fZJ5wXMoAOFc"
      },
      "execution_count": 26,
      "outputs": []
    },
    {
      "cell_type": "code",
      "source": [
        "model = models.resnet50()\n",
        "path = '/content/drive/MyDrive/Garbage_classification/Data/model_resnet3.pth'\n",
        "model.load_state_dict(torch.load(path))\n",
        "model.eval()\n",
        "device = torch.device('cuda' if torch.cuda.is_available() else 'cpu')\n",
        "model.to(device)\n",
        "\n",
        "def predict_image(image_path):\n",
        "    # Preprocessing prediction images\n",
        "    transformations = transforms.Compose([\n",
        "        transforms.Resize((256, 256)),\n",
        "        transforms.ToTensor(),\n",
        "        transforms.Normalize((0.5, 0.5, 0.5), (0.5, 0.5, 0.5))\n",
        "    ])\n",
        "    # Loading images\n",
        "    image = Image.open(image_path).convert('RGB')\n",
        "    image_tensor = transformations(image).unsqueeze(0).to(device)\n",
        "    class_names = [\"cardboard\", \"glass\", \"metal\", \"paper\", \"plastic\", \"trash\"]\n",
        "    # Prediction time\n",
        "    with torch.no_grad():\n",
        "        output = model(image_tensor)\n",
        "    _, predicted_idx = torch.max(output, 1)\n",
        "    predicted_class = class_names[predicted_idx.item()]\n",
        "    return predicted_class\n",
        "# Eg multiple images\n",
        "image_paths = [\n",
        "    '/content/drive/MyDrive/Garbage_classification/Data/paper/paper80.jpg',\n",
        "    '/content/drive/MyDrive/Garbage_classification/Data/plastic/plastic12.jpg',\n",
        "    '/content/drive/MyDrive/Garbage_classification/Data/glass/glass99.jpg',\n",
        "    '/content/drive/MyDrive/Garbage_classification/Data/cardboard/cardboard167.jpg',\n",
        "    '/content/drive/MyDrive/Garbage_classification/Data/metal/metal77.jpg',\n",
        "    '/content/drive/MyDrive/Garbage_classification/Data/trash/trash109.jpg',\n",
        "    '/content/drive/MyDrive/Garbage_classification/Data/trash/trash105.jpg'\n",
        "]\n",
        "\n",
        "for img_path in image_paths:\n",
        "    result = predict_image(img_path)\n",
        "    print(f\"The model predicts the image is: {result}\")\n"
      ],
      "metadata": {
        "colab": {
          "base_uri": "https://localhost:8080/"
        },
        "id": "WrbCU-0ILTzG",
        "outputId": "c44c1be8-2c40-424e-e62a-e81fed008bed"
      },
      "execution_count": 28,
      "outputs": [
        {
          "output_type": "stream",
          "name": "stdout",
          "text": [
            "The model predicts the image is: paper\n",
            "The model predicts the image is: glass\n",
            "The model predicts the image is: metal\n",
            "The model predicts the image is: cardboard\n",
            "The model predicts the image is: metal\n",
            "The model predicts the image is: trash\n",
            "The model predicts the image is: trash\n"
          ]
        }
      ]
    },
    {
      "cell_type": "code",
      "source": [
        "model.eval()\n",
        "all_preds = []\n",
        "all_labels = []\n",
        "\n",
        "with torch.no_grad():\n",
        "    for images, labels in val_loader:\n",
        "        images, labels = images.to(device), labels.to(device)\n",
        "        outputs = model(images)\n",
        "        _, preds = torch.max(outputs, 1)\n",
        "\n",
        "        all_preds.extend(preds.cpu().numpy())\n",
        "        all_labels.extend(labels.cpu().numpy())\n"
      ],
      "metadata": {
        "id": "-Fi28C3hN--8"
      },
      "execution_count": 29,
      "outputs": []
    },
    {
      "cell_type": "code",
      "source": [
        "cm = confusion_matrix(all_labels, all_preds)\n",
        "class_names = dataset.classes  # ['cardboard','glass','metal','paper','plastic','trash']\n",
        "\n",
        "plt.figure(figsize=(8,6))\n",
        "sns.heatmap(cm, annot=True, fmt='d', xticklabels=class_names, yticklabels=class_names, cmap=\"Blues\")\n",
        "plt.xlabel(\"Predicted\")\n",
        "plt.ylabel(\"Actual\")\n",
        "plt.title(\"Confusion Matrix\")\n",
        "plt.show()\n"
      ],
      "metadata": {
        "colab": {
          "base_uri": "https://localhost:8080/",
          "height": 564
        },
        "id": "d8-Mrdl3OBuD",
        "outputId": "a4832a75-b5df-4e47-dc4e-3e615c3d0a2b"
      },
      "execution_count": 30,
      "outputs": [
        {
          "output_type": "display_data",
          "data": {
            "text/plain": [
              "<Figure size 800x600 with 2 Axes>"
            ],
            "image/png": "[encoded data removed]"
          },
          "metadata": {}
        }
      ]
    },
    {
      "cell_type": "code",
      "source": [],
      "metadata": {
        "id": "lYbQGKIT2I5f"
      },
      "execution_count": null,
      "outputs": []
    }
  ]
}