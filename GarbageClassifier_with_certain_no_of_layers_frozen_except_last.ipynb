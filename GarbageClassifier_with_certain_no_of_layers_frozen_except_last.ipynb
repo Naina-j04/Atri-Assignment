{
  "nbformat": 4,
  "nbformat_minor": 0,
  "metadata": {
    "colab": {
      "provenance": [],
      "gpuType": "T4",
      "mount_file_id": "1g7SS6DF4ZuRKtoHsdbeQ3XfIQjcBd_Cm",
      "authorship_tag": "ABX9TyMgx13wEn6oIGvtvRkxaLPG",
      "include_colab_link": true
    },
    "kernelspec": {
      "name": "python3",
      "display_name": "Python 3"
    },
    "language_info": {
      "name": "python"
    },
    "accelerator": "GPU"
  },
  "cells": [
    {
      "cell_type": "markdown",
      "metadata": {
        "id": "view-in-github",
        "colab_type": "text"
      },
      "source": [
        "<a href=\"https://colab.research.google.com/github/Naina-j04/Atri-Assignment/blob/main/GarbageClassifier_with_certain_no_of_layers_frozen_except_last.ipynb\" target=\"_parent\"><img src=\"https://colab.research.google.com/assets/colab-badge.svg\" alt=\"Open In Colab\"/></a>"
      ]
    },
    {
      "cell_type": "code",
      "execution_count": 1,
      "metadata": {
        "id": "TDOOcPLTCM6x"
      },
      "outputs": [],
      "source": [
        "import os\n",
        "import torch\n",
        "import torchvision\n",
        "from torch.utils.data import random_split\n",
        "import torchvision.models as models\n",
        "import torch.nn as nn\n",
        "import torch.nn.functional as F\n",
        "from torchvision import transforms\n",
        "from torch.utils.data import DataLoader\n",
        "import torch.optim as optim\n",
        "from PIL import Image\n",
        "from collections import Counter\n",
        "from sklearn.metrics import confusion_matrix\n",
        "import matplotlib.pyplot as plt\n",
        "import seaborn as sns\n"
      ]
    },
    {
      "cell_type": "code",
      "source": [
        "from google.colab import drive\n",
        "drive.mount('/content/drive')"
      ],
      "metadata": {
        "colab": {
          "base_uri": "https://localhost:8080/"
        },
        "id": "CRs0MnTSD2rc",
        "outputId": "4e1be972-5ab3-472d-ac1b-e36f2c2a9552"
      },
      "execution_count": 2,
      "outputs": [
        {
          "output_type": "stream",
          "name": "stdout",
          "text": [
            "Mounted at /content/drive\n"
          ]
        }
      ]
    },
    {
      "cell_type": "code",
      "source": [
        "#pointing to dataset\n",
        "data_dir  = '/content/drive/MyDrive/Garbage_classification/Data'\n",
        "\n",
        "classes = os.listdir(data_dir)\n",
        "print(classes)"
      ],
      "metadata": {
        "colab": {
          "base_uri": "https://localhost:8080/"
        },
        "id": "0ORVPfMbCfwS",
        "outputId": "bcc4cd7a-b0b8-4481-fa99-6cb219e4dedd"
      },
      "execution_count": 3,
      "outputs": [
        {
          "output_type": "stream",
          "name": "stdout",
          "text": [
            "['plastic', 'trash', 'paper', 'glass', 'metal', 'cardboard', 'garbage.pth', 'bettermodel.pth', 'bettermodel2.pth', 'model_resnet1.pth']\n"
          ]
        }
      ]
    },
    {
      "cell_type": "code",
      "source": [
        "#resizing and normalizing the dataset\n",
        "from torchvision.datasets import ImageFolder\n",
        "import torchvision.transforms as transforms\n",
        "\n",
        "transformations = transforms.Compose([transforms.Resize((256, 256)),transforms.RandomHorizontalFlip(),\n",
        "                                      transforms.RandomRotation(10),transforms.ToTensor(),\n",
        "                                      transforms.Normalize((0.5, 0.5, 0.5), (0.5, 0.5, 0.5))])\n",
        "\n",
        "dataset = ImageFolder(data_dir, transform = transformations)"
      ],
      "metadata": {
        "id": "Rn2Q0WW2EXTd"
      },
      "execution_count": 4,
      "outputs": []
    },
    {
      "cell_type": "code",
      "source": [
        "len(dataset)\n"
      ],
      "metadata": {
        "colab": {
          "base_uri": "https://localhost:8080/"
        },
        "id": "WASsrWTUmxpx",
        "outputId": "345c91ed-281a-476b-d6d8-40da34066c94"
      },
      "execution_count": 5,
      "outputs": [
        {
          "output_type": "execute_result",
          "data": {
            "text/plain": [
              "2527"
            ]
          },
          "metadata": {},
          "execution_count": 5
        }
      ]
    },
    {
      "cell_type": "code",
      "source": [
        "#splitting the dataset\n",
        "train_data,val_data,test_data=random_split(dataset,[1616,405,506])\n",
        "len(train_data),len(val_data),len(test_data)"
      ],
      "metadata": {
        "colab": {
          "base_uri": "https://localhost:8080/"
        },
        "id": "p4FX9gWwnXRr",
        "outputId": "a09242cd-de91-4857-ea30-1b37341d9327"
      },
      "execution_count": 6,
      "outputs": [
        {
          "output_type": "execute_result",
          "data": {
            "text/plain": [
              "(1616, 405, 506)"
            ]
          },
          "metadata": {},
          "execution_count": 6
        }
      ]
    },
    {
      "cell_type": "code",
      "source": [
        "#checking how many images from each class split b/w TVT\n",
        "train_idx = train_data.indices\n",
        "val_idx   = val_data.indices\n",
        "test_idx  = test_data.indices\n",
        "\n",
        "print(\"Train class counts:\", Counter([dataset.targets[i] for i in train_idx]))\n",
        "print(\"Val class counts:\", Counter([dataset.targets[i] for i in val_idx]))\n",
        "print(\"Test class counts:\", Counter([dataset.targets[i] for i in test_idx]))\n"
      ],
      "metadata": {
        "colab": {
          "base_uri": "https://localhost:8080/"
        },
        "id": "pJcAQd_VA0ZC",
        "outputId": "c5b3613b-56f8-4d2e-ae49-1987176e869a"
      },
      "execution_count": 7,
      "outputs": [
        {
          "output_type": "stream",
          "name": "stdout",
          "text": [
            "Train class counts: Counter({3: 369, 1: 337, 4: 321, 2: 270, 0: 231, 5: 88})\n",
            "Val class counts: Counter({3: 110, 1: 74, 0: 73, 4: 70, 2: 52, 5: 26})\n",
            "Test class counts: Counter({3: 115, 0: 99, 4: 91, 1: 90, 2: 88, 5: 23})\n"
          ]
        }
      ]
    },
    {
      "cell_type": "code",
      "source": [
        "model = models.resnet50(weights='DEFAULT')\n",
        "\n",
        "# Freeze the pre-trained layers\n",
        "for i,(name,param) in enumerate (model.named_parameters()):\n",
        "  if i < 40:\n",
        "    param.requires_grad = False\n",
        "  else:\n",
        "    param.requires_grad = True\n",
        "\n",
        "# Replace the final fully connected layer for your 6 classes\n",
        "num_ftrs = model.fc.in_features\n",
        "model.fc = nn.Linear(num_ftrs, 6)\n",
        "\n",
        "# Move the model to the appropriate device\n",
        "device = torch.device('cuda' if torch.cuda.is_available() else 'cpu')\n",
        "model = model.to(device)"
      ],
      "metadata": {
        "id": "9jCzDDS2oMuI"
      },
      "execution_count": 10,
      "outputs": []
    },
    {
      "cell_type": "code",
      "source": [
        "#dataloader\n",
        "train_loader=DataLoader(train_data,batch_size=32,shuffle=True)\n",
        "val_loader=DataLoader(val_data,batch_size=32,shuffle=False)\n",
        "test_loader=DataLoader(test_data,batch_size=32,shuffle=False)"
      ],
      "metadata": {
        "id": "hHgEtbGPuHpL"
      },
      "execution_count": 11,
      "outputs": []
    },
    {
      "cell_type": "code",
      "source": [
        "#defining the training components\n",
        "classes=6\n",
        "model=models.resnet50(classes)\n",
        "criterion=nn.CrossEntropyLoss()\n",
        "optimizer=optim.Adam(model.parameters(),lr=0.001)\n",
        "device = torch.device('cuda' if torch.cuda.is_available() else 'cpu')\n",
        "model.to(device)\n",
        "device"
      ],
      "metadata": {
        "colab": {
          "base_uri": "https://localhost:8080/"
        },
        "id": "3g55FGaOvAtL",
        "outputId": "5e5156ea-b1f3-42e8-f504-22bf94098d99"
      },
      "execution_count": 12,
      "outputs": [
        {
          "output_type": "stream",
          "name": "stderr",
          "text": [
            "/usr/local/lib/python3.12/dist-packages/torchvision/models/_utils.py:135: UserWarning: Using 'weights' as positional parameter(s) is deprecated since 0.13 and may be removed in the future. Please use keyword parameter(s) instead.\n",
            "  warnings.warn(\n",
            "/usr/local/lib/python3.12/dist-packages/torchvision/models/_utils.py:223: UserWarning: Arguments other than a weight enum or `None` for 'weights' are deprecated since 0.13 and may be removed in the future. The current behavior is equivalent to passing `weights=ResNet50_Weights.IMAGENET1K_V1`. You can also use `weights=ResNet50_Weights.DEFAULT` to get the most up-to-date weights.\n",
            "  warnings.warn(msg)\n"
          ]
        },
        {
          "output_type": "stream",
          "name": "stdout",
          "text": [
            "Downloading: \"https://download.pytorch.org/models/resnet50-0676ba61.pth\" to /root/.cache/torch/hub/checkpoints/resnet50-0676ba61.pth\n"
          ]
        },
        {
          "output_type": "stream",
          "name": "stderr",
          "text": [
            "100%|██████████| 97.8M/97.8M [00:00<00:00, 128MB/s]\n"
          ]
        },
        {
          "output_type": "execute_result",
          "data": {
            "text/plain": [
              "device(type='cuda')"
            ]
          },
          "metadata": {},
          "execution_count": 12
        }
      ]
    },
    {
      "cell_type": "code",
      "source": [
        "num_epochs = 20\n",
        "print(\"Starting Training...\")\n",
        "for epoch in range(num_epochs):\n",
        "    model.train()\n",
        "    running_loss = 0.0\n",
        "    for images, labels in train_loader:\n",
        "        images, labels = images.to(device), labels.to(device)\n",
        "        optimizer.zero_grad()\n",
        "        outputs = model(images)\n",
        "        loss = criterion(outputs, labels)\n",
        "        loss.backward()\n",
        "        optimizer.step()\n",
        "        running_loss += loss.item()\n",
        "    model.eval()\n",
        "    val_loss = 0.0\n",
        "    correct = 0\n",
        "    total = 0\n",
        "\n",
        "    with torch.no_grad():\n",
        "        for images, labels in val_loader:\n",
        "            images, labels = images.to(device), labels.to(device)\n",
        "            outputs = model(images)\n",
        "            loss = criterion(outputs, labels)\n",
        "            val_loss += loss.item()\n",
        "            _, predicted = torch.max(outputs.data, 1)\n",
        "            total += labels.size(0)\n",
        "            correct += (predicted == labels).sum().item()\n",
        "\n",
        "    avg_train_loss = running_loss / len(train_loader)\n",
        "    avg_val_loss = val_loss / len(val_loader)\n",
        "    accuracy = 100 * correct / total\n",
        "\n",
        "    print(f'Epoch [{epoch+1}/{num_epochs}], Training Loss: {avg_train_loss:.4f}, '\n",
        "          f'Validation Loss: {avg_val_loss:.4f}, Validation Accuracy: {accuracy:.2f}%')\n",
        "\n",
        "print('Finished Training.')\n"
      ],
      "metadata": {
        "colab": {
          "base_uri": "https://localhost:8080/"
        },
        "id": "yEQ5kZ0D9Th3",
        "outputId": "6bd0c1c1-2e35-4131-b32c-c4b2e861de64"
      },
      "execution_count": 14,
      "outputs": [
        {
          "output_type": "stream",
          "name": "stdout",
          "text": [
            "Starting Training...\n",
            "Epoch [1/20], Training Loss: 1.1555, Validation Loss: 1.2332, Validation Accuracy: 58.02%\n",
            "Epoch [2/20], Training Loss: 0.8178, Validation Loss: 1.4745, Validation Accuracy: 49.14%\n",
            "Epoch [3/20], Training Loss: 0.6447, Validation Loss: 0.9868, Validation Accuracy: 67.41%\n",
            "Epoch [4/20], Training Loss: 0.5583, Validation Loss: 0.8684, Validation Accuracy: 71.60%\n",
            "Epoch [5/20], Training Loss: 0.4891, Validation Loss: 0.6635, Validation Accuracy: 79.51%\n",
            "Epoch [6/20], Training Loss: 0.4631, Validation Loss: 0.9363, Validation Accuracy: 69.88%\n",
            "Epoch [7/20], Training Loss: 0.5048, Validation Loss: 0.6801, Validation Accuracy: 76.79%\n",
            "Epoch [8/20], Training Loss: 0.4079, Validation Loss: 0.7901, Validation Accuracy: 75.56%\n",
            "Epoch [9/20], Training Loss: 0.3742, Validation Loss: 0.5590, Validation Accuracy: 80.99%\n",
            "Epoch [10/20], Training Loss: 0.2854, Validation Loss: 0.9714, Validation Accuracy: 75.31%\n",
            "Epoch [11/20], Training Loss: 0.3701, Validation Loss: 0.7278, Validation Accuracy: 75.80%\n",
            "Epoch [12/20], Training Loss: 0.2758, Validation Loss: 0.6408, Validation Accuracy: 79.75%\n",
            "Epoch [13/20], Training Loss: 0.2838, Validation Loss: 0.6939, Validation Accuracy: 80.00%\n",
            "Epoch [14/20], Training Loss: 0.2330, Validation Loss: 0.6257, Validation Accuracy: 82.72%\n",
            "Epoch [15/20], Training Loss: 0.2528, Validation Loss: 0.6277, Validation Accuracy: 81.98%\n",
            "Epoch [16/20], Training Loss: 0.2242, Validation Loss: 0.6998, Validation Accuracy: 77.04%\n",
            "Epoch [17/20], Training Loss: 0.2322, Validation Loss: 0.6101, Validation Accuracy: 80.74%\n",
            "Epoch [18/20], Training Loss: 0.1541, Validation Loss: 0.6735, Validation Accuracy: 83.95%\n",
            "Epoch [19/20], Training Loss: 0.1967, Validation Loss: 0.7757, Validation Accuracy: 80.99%\n",
            "Epoch [20/20], Training Loss: 0.2572, Validation Loss: 0.5306, Validation Accuracy: 83.21%\n",
            "Finished Training.\n"
          ]
        }
      ]
    },
    {
      "cell_type": "code",
      "source": [
        "# FINAL TEST EVALUATION\n",
        "print('Starting Final Evaluation on Test Set...')\n",
        "model.eval()\n",
        "test_loss = 0.0\n",
        "correct = 0\n",
        "total = 0\n",
        "with torch.no_grad():\n",
        "    for images, labels in test_loader:\n",
        "        images, labels = images.to(device), labels.to(device)\n",
        "        outputs = model(images)\n",
        "        test_loss += criterion(outputs, labels).item()\n",
        "        _, predicted = torch.max(outputs.data, 1)\n",
        "        total += labels.size(0)\n",
        "        correct += (predicted == labels).sum().item()\n",
        "\n",
        "avg_test_loss = test_loss / len(test_loader)\n",
        "accuracy = 100 * correct / total\n",
        "print(f'Final Test Loss: {avg_test_loss:.4f}, Final Test Accuracy: {accuracy:.2f}%')"
      ],
      "metadata": {
        "id": "rXKXmVPc_hRU",
        "colab": {
          "base_uri": "https://localhost:8080/"
        },
        "outputId": "dd926c7b-86fb-460d-d000-a7db3dd8c80b"
      },
      "execution_count": 15,
      "outputs": [
        {
          "output_type": "stream",
          "name": "stdout",
          "text": [
            "Starting Final Evaluation on Test Set...\n",
            "Final Test Loss: 0.4912, Final Test Accuracy: 84.19%\n"
          ]
        }
      ]
    },
    {
      "cell_type": "code",
      "source": [
        "path='/content/drive/MyDrive/Garbage_classification/Data/model_resnet2.pth'\n",
        "torch.save(model.state_dict(), path)"
      ],
      "metadata": {
        "id": "fZJ5wXMoAOFc"
      },
      "execution_count": 16,
      "outputs": []
    },
    {
      "cell_type": "code",
      "source": [
        "model = models.resnet50()\n",
        "path = '/content/drive/MyDrive/Garbage_classification/Data/model_resnet2.pth'\n",
        "model.load_state_dict(torch.load(path))\n",
        "model.eval()\n",
        "device = torch.device('cuda' if torch.cuda.is_available() else 'cpu')\n",
        "model.to(device)\n",
        "\n",
        "def predict_image(image_path):\n",
        "    # Preprocessing prediction images\n",
        "    transformations = transforms.Compose([\n",
        "        transforms.Resize((256, 256)),\n",
        "        transforms.ToTensor(),\n",
        "        transforms.Normalize((0.5, 0.5, 0.5), (0.5, 0.5, 0.5))\n",
        "    ])\n",
        "    # Loading images\n",
        "    image = Image.open(image_path).convert('RGB')\n",
        "    image_tensor = transformations(image).unsqueeze(0).to(device)\n",
        "    class_names = [\"cardboard\", \"glass\", \"metal\", \"paper\", \"plastic\", \"trash\"]\n",
        "    # Prediction time\n",
        "    with torch.no_grad():\n",
        "        output = model(image_tensor)\n",
        "    _, predicted_idx = torch.max(output, 1)\n",
        "    predicted_class = class_names[predicted_idx.item()]\n",
        "    return predicted_class\n",
        "# Eg multiple images\n",
        "image_paths = [\n",
        "    '/content/drive/MyDrive/Garbage_classification/Data/paper/paper80.jpg',\n",
        "    '/content/drive/MyDrive/Garbage_classification/Data/plastic/plastic12.jpg',\n",
        "    '/content/drive/MyDrive/Garbage_classification/Data/glass/glass99.jpg',\n",
        "    '/content/drive/MyDrive/Garbage_classification/Data/cardboard/cardboard167.jpg',\n",
        "    '/content/drive/MyDrive/Garbage_classification/Data/metal/metal77.jpg',\n",
        "    '/content/drive/MyDrive/Garbage_classification/Data/trash/trash109.jpg',\n",
        "    '/content/drive/MyDrive/Garbage_classification/Data/trash/trash105.jpg'\n",
        "]\n",
        "\n",
        "for img_path in image_paths:\n",
        "    result = predict_image(img_path)\n",
        "    print(f\"The model predicts the image is: {result}\")\n"
      ],
      "metadata": {
        "colab": {
          "base_uri": "https://localhost:8080/"
        },
        "id": "WrbCU-0ILTzG",
        "outputId": "9dc371ac-96f4-4702-d30b-8db701a1ec96"
      },
      "execution_count": 17,
      "outputs": [
        {
          "output_type": "stream",
          "name": "stdout",
          "text": [
            "The model predicts the image is: paper\n",
            "The model predicts the image is: plastic\n",
            "The model predicts the image is: glass\n",
            "The model predicts the image is: cardboard\n",
            "The model predicts the image is: metal\n",
            "The model predicts the image is: plastic\n",
            "The model predicts the image is: metal\n"
          ]
        }
      ]
    },
    {
      "cell_type": "code",
      "source": [
        "model.eval()\n",
        "all_preds = []\n",
        "all_labels = []\n",
        "\n",
        "with torch.no_grad():\n",
        "    for images, labels in val_loader:\n",
        "        images, labels = images.to(device), labels.to(device)\n",
        "        outputs = model(images)\n",
        "        _, preds = torch.max(outputs, 1)\n",
        "\n",
        "        all_preds.extend(preds.cpu().numpy())\n",
        "        all_labels.extend(labels.cpu().numpy())\n"
      ],
      "metadata": {
        "id": "-Fi28C3hN--8"
      },
      "execution_count": 18,
      "outputs": []
    },
    {
      "cell_type": "code",
      "source": [
        "cm = confusion_matrix(all_labels, all_preds)\n",
        "class_names = dataset.classes  # ['cardboard','glass','metal','paper','plastic','trash']\n",
        "\n",
        "plt.figure(figsize=(8,6))\n",
        "sns.heatmap(cm, annot=True, fmt='d', xticklabels=class_names, yticklabels=class_names, cmap=\"Blues\")\n",
        "plt.xlabel(\"Predicted\")\n",
        "plt.ylabel(\"Actual\")\n",
        "plt.title(\"Confusion Matrix\")\n",
        "plt.show()\n"
      ],
      "metadata": {
        "colab": {
          "base_uri": "https://localhost:8080/",
          "height": 564
        },
        "id": "d8-Mrdl3OBuD",
        "outputId": "5c9ab74d-6a9b-4ae8-92bc-898f34321e2a"
      },
      "execution_count": 19,
      "outputs": [
        {
          "output_type": "display_data",
          "data": {
            "text/plain": [
              "<Figure size 800x600 with 2 Axes>"
            ],
            "image/png": "[encoded data removed]"
          },
          "metadata": {}
        }
      ]
    },
    {
      "cell_type": "code",
      "source": [],
      "metadata": {
        "id": "lYbQGKIT2I5f"
      },
      "execution_count": null,
      "outputs": []
    }
  ]
}